{
 "cells": [
  {
   "cell_type": "code",
   "execution_count": 1,
   "id": "b00104a5",
   "metadata": {},
   "outputs": [
    {
     "name": "stderr",
     "output_type": "stream",
     "text": [
      "2023-02-22 09:57:23.059524: I tensorflow/core/platform/cpu_feature_guard.cc:193] This TensorFlow binary is optimized with oneAPI Deep Neural Network Library (oneDNN) to use the following CPU instructions in performance-critical operations:  SSE4.1 SSE4.2\n",
      "To enable them in other operations, rebuild TensorFlow with the appropriate compiler flags.\n"
     ]
    }
   ],
   "source": [
    "import pandas as pd\n",
    "import matplotlib as plt\n",
    "import sklearn as skl\n",
    "import tensorflow as tf\n",
    "from sklearn.model_selection import train_test_split\n",
    "from sklearn.preprocessing import StandardScaler, OneHotEncoder"
   ]
  },
  {
   "cell_type": "code",
   "execution_count": 2,
   "id": "095052bc",
   "metadata": {},
   "outputs": [],
   "source": [
    "wine_df = pd.read_csv('winemag-data_first150k.csv',index_col= 'Unnamed: 0')"
   ]
  },
  {
   "cell_type": "code",
   "execution_count": 3,
   "id": "cf21eb6e",
   "metadata": {
    "scrolled": true
   },
   "outputs": [
    {
     "data": {
      "text/html": [
       "<div>\n",
       "<style scoped>\n",
       "    .dataframe tbody tr th:only-of-type {\n",
       "        vertical-align: middle;\n",
       "    }\n",
       "\n",
       "    .dataframe tbody tr th {\n",
       "        vertical-align: top;\n",
       "    }\n",
       "\n",
       "    .dataframe thead th {\n",
       "        text-align: right;\n",
       "    }\n",
       "</style>\n",
       "<table border=\"1\" class=\"dataframe\">\n",
       "  <thead>\n",
       "    <tr style=\"text-align: right;\">\n",
       "      <th></th>\n",
       "      <th>country</th>\n",
       "      <th>description</th>\n",
       "      <th>designation</th>\n",
       "      <th>points</th>\n",
       "      <th>price</th>\n",
       "      <th>province</th>\n",
       "      <th>region_1</th>\n",
       "      <th>region_2</th>\n",
       "      <th>variety</th>\n",
       "      <th>winery</th>\n",
       "    </tr>\n",
       "  </thead>\n",
       "  <tbody>\n",
       "    <tr>\n",
       "      <th>0</th>\n",
       "      <td>US</td>\n",
       "      <td>This tremendous 100% varietal wine hails from ...</td>\n",
       "      <td>Martha's Vineyard</td>\n",
       "      <td>96.0</td>\n",
       "      <td>235.0</td>\n",
       "      <td>California</td>\n",
       "      <td>Napa Valley</td>\n",
       "      <td>Napa</td>\n",
       "      <td>Cabernet Sauvignon</td>\n",
       "      <td>Heitz</td>\n",
       "    </tr>\n",
       "    <tr>\n",
       "      <th>1</th>\n",
       "      <td>Spain</td>\n",
       "      <td>Ripe aromas of fig, blackberry and cassis are ...</td>\n",
       "      <td>Carodorum Selección Especial Reserva</td>\n",
       "      <td>96.0</td>\n",
       "      <td>110.0</td>\n",
       "      <td>Northern Spain</td>\n",
       "      <td>Toro</td>\n",
       "      <td>NaN</td>\n",
       "      <td>Tinta de Toro</td>\n",
       "      <td>Bodega Carmen Rodríguez</td>\n",
       "    </tr>\n",
       "    <tr>\n",
       "      <th>2</th>\n",
       "      <td>US</td>\n",
       "      <td>Mac Watson honors the memory of a wine once ma...</td>\n",
       "      <td>Special Selected Late Harvest</td>\n",
       "      <td>96.0</td>\n",
       "      <td>90.0</td>\n",
       "      <td>California</td>\n",
       "      <td>Knights Valley</td>\n",
       "      <td>Sonoma</td>\n",
       "      <td>Sauvignon Blanc</td>\n",
       "      <td>Macauley</td>\n",
       "    </tr>\n",
       "    <tr>\n",
       "      <th>3</th>\n",
       "      <td>US</td>\n",
       "      <td>This spent 20 months in 30% new French oak, an...</td>\n",
       "      <td>Reserve</td>\n",
       "      <td>96.0</td>\n",
       "      <td>65.0</td>\n",
       "      <td>Oregon</td>\n",
       "      <td>Willamette Valley</td>\n",
       "      <td>Willamette Valley</td>\n",
       "      <td>Pinot Noir</td>\n",
       "      <td>Ponzi</td>\n",
       "    </tr>\n",
       "    <tr>\n",
       "      <th>4</th>\n",
       "      <td>France</td>\n",
       "      <td>This is the top wine from La Bégude, named aft...</td>\n",
       "      <td>La Brûlade</td>\n",
       "      <td>95.0</td>\n",
       "      <td>66.0</td>\n",
       "      <td>Provence</td>\n",
       "      <td>Bandol</td>\n",
       "      <td>NaN</td>\n",
       "      <td>Provence red blend</td>\n",
       "      <td>Domaine de la Bégude</td>\n",
       "    </tr>\n",
       "    <tr>\n",
       "      <th>...</th>\n",
       "      <td>...</td>\n",
       "      <td>...</td>\n",
       "      <td>...</td>\n",
       "      <td>...</td>\n",
       "      <td>...</td>\n",
       "      <td>...</td>\n",
       "      <td>...</td>\n",
       "      <td>...</td>\n",
       "      <td>...</td>\n",
       "      <td>...</td>\n",
       "    </tr>\n",
       "    <tr>\n",
       "      <th>151839</th>\n",
       "      <td>Italy</td>\n",
       "      <td>This opens with aromas of toast, oak, menthol,...</td>\n",
       "      <td>NaN</td>\n",
       "      <td>87.0</td>\n",
       "      <td>35.0</td>\n",
       "      <td>Piedmont</td>\n",
       "      <td>Barbaresco</td>\n",
       "      <td>NaN</td>\n",
       "      <td>Nebbiolo</td>\n",
       "      <td>Castello di Neive</td>\n",
       "    </tr>\n",
       "    <tr>\n",
       "      <th>151840</th>\n",
       "      <td>Argentina</td>\n",
       "      <td>Flat in color, with a dull luster, this smells...</td>\n",
       "      <td>Grand Vin</td>\n",
       "      <td>87.0</td>\n",
       "      <td>30.0</td>\n",
       "      <td>Mendoza Province</td>\n",
       "      <td>Vista Flores</td>\n",
       "      <td>NaN</td>\n",
       "      <td>Bordeaux-style Red Blend</td>\n",
       "      <td>Antucura</td>\n",
       "    </tr>\n",
       "    <tr>\n",
       "      <th>151841</th>\n",
       "      <td>France</td>\n",
       "      <td>Juicy dark plum, cherry and boysenberry are up...</td>\n",
       "      <td>Samsó Seulle</td>\n",
       "      <td>87.0</td>\n",
       "      <td>23.0</td>\n",
       "      <td>France Other</td>\n",
       "      <td>Vin de France</td>\n",
       "      <td>NaN</td>\n",
       "      <td>Cinsault</td>\n",
       "      <td>Frédéric Brouca</td>\n",
       "    </tr>\n",
       "    <tr>\n",
       "      <th>151842</th>\n",
       "      <td>US</td>\n",
       "      <td>This light, refreshing rosé mixes fresh strawb...</td>\n",
       "      <td>Three Otters Pinot Noir</td>\n",
       "      <td>87.0</td>\n",
       "      <td>18.0</td>\n",
       "      <td>Oregon</td>\n",
       "      <td>Willamette Valley</td>\n",
       "      <td>Willamette Valley</td>\n",
       "      <td>Rosé</td>\n",
       "      <td>Fullerton</td>\n",
       "    </tr>\n",
       "    <tr>\n",
       "      <th>151843</th>\n",
       "      <td>NaN</td>\n",
       "      <td>NaN</td>\n",
       "      <td>NaN</td>\n",
       "      <td>NaN</td>\n",
       "      <td>NaN</td>\n",
       "      <td>NaN</td>\n",
       "      <td>NaN</td>\n",
       "      <td>NaN</td>\n",
       "      <td>NaN</td>\n",
       "      <td>NaN</td>\n",
       "    </tr>\n",
       "  </tbody>\n",
       "</table>\n",
       "<p>151844 rows × 10 columns</p>\n",
       "</div>"
      ],
      "text/plain": [
       "          country                                        description  \\\n",
       "0              US  This tremendous 100% varietal wine hails from ...   \n",
       "1           Spain  Ripe aromas of fig, blackberry and cassis are ...   \n",
       "2              US  Mac Watson honors the memory of a wine once ma...   \n",
       "3              US  This spent 20 months in 30% new French oak, an...   \n",
       "4          France  This is the top wine from La Bégude, named aft...   \n",
       "...           ...                                                ...   \n",
       "151839      Italy  This opens with aromas of toast, oak, menthol,...   \n",
       "151840  Argentina  Flat in color, with a dull luster, this smells...   \n",
       "151841     France  Juicy dark plum, cherry and boysenberry are up...   \n",
       "151842         US  This light, refreshing rosé mixes fresh strawb...   \n",
       "151843        NaN                                                NaN   \n",
       "\n",
       "                                 designation  points  price          province  \\\n",
       "0                          Martha's Vineyard    96.0  235.0        California   \n",
       "1       Carodorum Selección Especial Reserva    96.0  110.0    Northern Spain   \n",
       "2              Special Selected Late Harvest    96.0   90.0        California   \n",
       "3                                    Reserve    96.0   65.0            Oregon   \n",
       "4                                 La Brûlade    95.0   66.0          Provence   \n",
       "...                                      ...     ...    ...               ...   \n",
       "151839                                   NaN    87.0   35.0          Piedmont   \n",
       "151840                             Grand Vin    87.0   30.0  Mendoza Province   \n",
       "151841                          Samsó Seulle    87.0   23.0      France Other   \n",
       "151842               Three Otters Pinot Noir    87.0   18.0            Oregon   \n",
       "151843                                   NaN     NaN    NaN               NaN   \n",
       "\n",
       "                 region_1           region_2                   variety  \\\n",
       "0             Napa Valley               Napa        Cabernet Sauvignon   \n",
       "1                    Toro                NaN             Tinta de Toro   \n",
       "2          Knights Valley             Sonoma           Sauvignon Blanc   \n",
       "3       Willamette Valley  Willamette Valley                Pinot Noir   \n",
       "4                  Bandol                NaN        Provence red blend   \n",
       "...                   ...                ...                       ...   \n",
       "151839         Barbaresco                NaN                  Nebbiolo   \n",
       "151840       Vista Flores                NaN  Bordeaux-style Red Blend   \n",
       "151841      Vin de France                NaN                  Cinsault   \n",
       "151842  Willamette Valley  Willamette Valley                      Rosé   \n",
       "151843                NaN                NaN                       NaN   \n",
       "\n",
       "                         winery  \n",
       "0                         Heitz  \n",
       "1       Bodega Carmen Rodríguez  \n",
       "2                      Macauley  \n",
       "3                         Ponzi  \n",
       "4          Domaine de la Bégude  \n",
       "...                         ...  \n",
       "151839        Castello di Neive  \n",
       "151840                 Antucura  \n",
       "151841          Frédéric Brouca  \n",
       "151842                Fullerton  \n",
       "151843                      NaN  \n",
       "\n",
       "[151844 rows x 10 columns]"
      ]
     },
     "execution_count": 3,
     "metadata": {},
     "output_type": "execute_result"
    }
   ],
   "source": [
    "wine_df"
   ]
  },
  {
   "cell_type": "code",
   "execution_count": 4,
   "id": "ae8cfe0e",
   "metadata": {},
   "outputs": [],
   "source": [
    "wine_df['region_2'] = wine_df['region_2'].fillna('None')"
   ]
  },
  {
   "cell_type": "code",
   "execution_count": null,
   "id": "b18bfc29",
   "metadata": {},
   "outputs": [],
   "source": [
    "wine"
   ]
  },
  {
   "cell_type": "code",
   "execution_count": 5,
   "id": "3446e0f2",
   "metadata": {},
   "outputs": [
    {
     "name": "stdout",
     "output_type": "stream",
     "text": [
      "object\n",
      "object\n",
      "object\n",
      "float64\n",
      "float64\n",
      "object\n",
      "object\n",
      "object\n",
      "object\n",
      "object\n"
     ]
    }
   ],
   "source": [
    "for col in wine_df:\n",
    "    print(wine_df[col].dtype)"
   ]
  },
  {
   "cell_type": "code",
   "execution_count": 6,
   "id": "c05fc9b9",
   "metadata": {},
   "outputs": [],
   "source": [
    "enc = OneHotEncoder(sparse= False)"
   ]
  },
  {
   "cell_type": "code",
   "execution_count": null,
   "id": "f8bac756",
   "metadata": {},
   "outputs": [
    {
     "name": "stderr",
     "output_type": "stream",
     "text": [
      "/Users/jordanravelo/opt/anaconda3/envs/mlenv/lib/python3.10/site-packages/sklearn/utils/deprecation.py:87: FutureWarning: Function get_feature_names is deprecated; get_feature_names is deprecated in 1.0 and will be removed in 1.2. Please use get_feature_names_out instead.\n",
      "  warnings.warn(msg, category=FutureWarning)\n",
      "/Users/jordanravelo/opt/anaconda3/envs/mlenv/lib/python3.10/site-packages/sklearn/utils/deprecation.py:87: FutureWarning: Function get_feature_names is deprecated; get_feature_names is deprecated in 1.0 and will be removed in 1.2. Please use get_feature_names_out instead.\n",
      "  warnings.warn(msg, category=FutureWarning)\n"
     ]
    }
   ],
   "source": [
    "for col in wine_df:\n",
    "    if wine_df[col].dtype == 'object':\n",
    "        enc_col = wine_df[col]\n",
    "        wine_df = wine_df.drop(columns=col)\n",
    "        enc_col2 = pd.DataFrame(enc.fit_transform(enc_col.values.reshape(-1,1)))\n",
    "        enc_col2.columns = enc.get_feature_names([col])\n",
    "        wine_df = wine_df.merge(enc_col2,left_index=True,right_index=True)\n",
    "        \n",
    "        "
   ]
  },
  {
   "cell_type": "code",
   "execution_count": null,
   "id": "485dda8c",
   "metadata": {},
   "outputs": [],
   "source": [
    "wine_df.head()"
   ]
  },
  {
   "cell_type": "code",
   "execution_count": null,
   "id": "bddadd1e",
   "metadata": {},
   "outputs": [],
   "source": [
    "y = wine_df['points']\n",
    "X = wine_df.drop(columns='points')"
   ]
  },
  {
   "cell_type": "code",
   "execution_count": null,
   "id": "2c2a56dd",
   "metadata": {},
   "outputs": [],
   "source": [
    "X_train,X_test,y_train,y_test = train_test_split(X,y,test_size=0.2,random_state=42)"
   ]
  },
  {
   "cell_type": "code",
   "execution_count": null,
   "id": "e33d9b19",
   "metadata": {},
   "outputs": [],
   "source": [
    "scaler = StandardScaler()\n",
    "\n",
    "X_scaler = scaler.fit(X_train)\n",
    "\n",
    "X_train_scaled = X_scaler.fit_transform(X_train)\n",
    "X_test_scaled = X_scaler.fit_transform(X_test)"
   ]
  },
  {
   "cell_type": "code",
   "execution_count": null,
   "id": "5bf18f0d",
   "metadata": {},
   "outputs": [],
   "source": [
    "print(len(X_train_scaled[0]))"
   ]
  },
  {
   "cell_type": "code",
   "execution_count": null,
   "id": "13bb9095",
   "metadata": {},
   "outputs": [],
   "source": [
    "number_input_features = len(X_train_scaled[0])\n",
    "hidden_layers_1 = 750\n",
    "hidden_layers_list = [250]\n",
    "\n",
    "nn = tf.keras.models.Sequential()\n",
    "\n",
    "nn.add(tf.keras.layers.Dense(units=hidden_layers_1, input_dim=number_input_features, activation='relu'))\n",
    "for i in hidden_layers_list:\n",
    "    nn.add(tf.keras.layers.Dense(units=i, activation='relu'))\n",
    "\n",
    "nn.add(tf.keras.layers.Dense(units=1, activation='relu'))\n",
    "\n",
    "\n",
    "\n"
   ]
  },
  {
   "cell_type": "code",
   "execution_count": null,
   "id": "6e4c293a",
   "metadata": {},
   "outputs": [],
   "source": [
    "checkpoint = ModelCheckpoint('best_weights.h5',save_best_only=True,save_weights_only = True,monitor = 'val_mae',verbose = 1)"
   ]
  },
  {
   "cell_type": "code",
   "execution_count": null,
   "id": "f4ca9eb7",
   "metadata": {},
   "outputs": [],
   "source": [
    "nn.compile(loss = 'mae',optimizer ='adam',metrics=['mae'])"
   ]
  },
  {
   "cell_type": "code",
   "execution_count": null,
   "id": "c411dfe9",
   "metadata": {},
   "outputs": [],
   "source": [
    "nn.summary()"
   ]
  },
  {
   "cell_type": "code",
   "execution_count": null,
   "id": "5f30f2f2",
   "metadata": {},
   "outputs": [],
   "source": [
    "nn.fit(X_train_scaled,y_train,epochs=100)"
   ]
  },
  {
   "cell_type": "code",
   "execution_count": null,
   "id": "fa80480c",
   "metadata": {},
   "outputs": [],
   "source": [
    "loss,accuracy = nn.evaluate(X_test,y_test)"
   ]
  }
 ],
 "metadata": {
  "kernelspec": {
   "display_name": "mlenv",
   "language": "python",
   "name": "mlenv"
  },
  "language_info": {
   "codemirror_mode": {
    "name": "ipython",
    "version": 3
   },
   "file_extension": ".py",
   "mimetype": "text/x-python",
   "name": "python",
   "nbconvert_exporter": "python",
   "pygments_lexer": "ipython3",
   "version": "3.10.4"
  }
 },
 "nbformat": 4,
 "nbformat_minor": 5
}
